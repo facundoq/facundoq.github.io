{
 "cells": [
  {
   "cell_type": "markdown",
   "metadata": {},
   "source": [
    "## Numpy\n",
    "\n",
    "\n",
    "**Objetivo**: Aprender a crear y manipular matrices utilizando la librería Numpy de Python.\n",
    "\n",
    "**Conocimientos previos**: Programación básica en Python, concepto de vector y matriz.\n",
    "\n",
    "\n",
    "Numpy es una librería para realizar cálculo **num**érico en **py**thon. La usaremos principalmente porque nos permite crear y modificar matrices, y hacer operaciones sobre ellas con facilidad.\n",
    "\n",
    "Para comenzar a usar numpy, debemos importar la librería. En este caso la vamos a importar, y darle un sobrenombre al mismo tiempo, **np**, para que el código sea más legible\n",
    "\n"
   ]
  },
  {
   "cell_type": "code",
   "execution_count": 2,
   "metadata": {},
   "outputs": [],
   "source": [
    "# importamos la librería numpy, y le damos como nombre np dentro del programa\n",
    "import numpy as np"
   ]
  },
  {
   "cell_type": "markdown",
   "metadata": {},
   "source": [
    "Ahora que tenemos la librería, empecemos creando un vector de 5 elementos. \n",
    "\n",
    "La manera más común de crear una un vector o matriz ya inicializada es con la función **np.array**, que toma una lista (o lista de listas) como parámetro y devuelve una matriz de numpy.\n"
   ]
  },
  {
   "cell_type": "code",
   "execution_count": 3,
   "metadata": {},
   "outputs": [
    {
     "name": "stdout",
     "output_type": "stream",
     "text": [
      "[ 25.   12.   15.   66.   12.5]\n"
     ]
    }
   ],
   "source": [
    "lista=[25,12,15,66,12.5]\n",
    "vector=np.array(lista)\n",
    "print(vector)"
   ]
  },
  {
   "cell_type": "markdown",
   "metadata": {},
   "source": [
    "¿Cuál es la diferencia entre *vector* y *lista*? Que *vector*, al ser un arreglo de numpy,  nos permite hacer varias operaciones matemáticas de forma muy simple.\n"
   ]
  },
  {
   "cell_type": "code",
   "execution_count": 4,
   "metadata": {},
   "outputs": [
    {
     "name": "stdout",
     "output_type": "stream",
     "text": [
      "- vector original\n",
      "[ 25.   12.   15.   66.   12.5]\n",
      "- sumarle 1 a cada elemento del vector:\n",
      "[ 26.   13.   16.   67.   13.5]\n",
      "- multiplicar por 5 cada elemento del vector:\n",
      "[ 125.    60.    75.   330.    62.5]\n",
      "- suma de los elementos:\n",
      "130.5\n",
      "- promedio (media) de los elementos:\n",
      "26.1\n",
      "- el vector sumado a si mismo:\n",
      "[  50.   24.   30.  132.   25.]\n",
      "- suma de vectores vector1 y vector2 (mismo tamaño):\n",
      "[ 36.   67.   16.2  73.4   4.5]\n"
     ]
    }
   ],
   "source": [
    "print(\"- vector original\")\n",
    "print(vector)\n",
    "\n",
    "print(\"- sumarle 1 a cada elemento del vector:\")\n",
    "print(vector+1)\n",
    "print(\"- multiplicar por 5 cada elemento del vector:\")\n",
    "print(vector*5)\n",
    "\n",
    "print(\"- suma de los elementos:\")\n",
    "print(np.sum(vector))\n",
    "\n",
    "print(\"- promedio (media) de los elementos:\")\n",
    "print(np.mean(vector)) # \n",
    "\n",
    "print(\"- el vector sumado a si mismo:\")\n",
    "print(vector+vector)\n",
    "print(\"- suma de vectores vector1 y vector2 (mismo tamaño):\")\n",
    "vector2=np.array([11,55,1.2,7.4,-8])\n",
    "print(vector+vector2)\n"
   ]
  },
  {
   "cell_type": "markdown",
   "metadata": {},
   "source": [
    "### Índices y slices (rodajas) de vectores\n",
    "\n",
    "Así como con las listas, se utilizan los corchetes (*[ ]*) para acceder a sus elementos, y se pueden tomar slices o rebanadas del arreglo utilizando *:* "
   ]
  },
  {
   "cell_type": "code",
   "execution_count": 5,
   "metadata": {},
   "outputs": [
    {
     "name": "stdout",
     "output_type": "stream",
     "text": [
      "66.0\n",
      "[ 12.  15.  66.]\n",
      "[ 12.   15.   66.   12.5]\n",
      "[ 25.  12.  15.  66.]\n",
      "[ 25.   12.   15.   66.   12.5]\n"
     ]
    }
   ],
   "source": [
    "print(vector[3])\n",
    "print(vector[1:4])\n",
    "print(vector[1:])\n",
    "print(vector[:4])\n",
    "print(vector[:])"
   ]
  },
  {
   "cell_type": "markdown",
   "metadata": {},
   "source": [
    "## Creación de vectores con valor 0 o 1\n",
    "\n",
    "Es muy común crear un vector con valores 0 o 1. Por ejemplo, cuando se utiliza un vector de contadores, donde cada contador comienza en 0. \n",
    "\n",
    "Para ello, utilizamos las funciones `np.zeros` y `np.ones`, respectivamente. Cada una toma como parámetro la cantidad de elementos del vector a crear.\n"
   ]
  },
  {
   "cell_type": "code",
   "execution_count": 6,
   "metadata": {},
   "outputs": [
    {
     "name": "stdout",
     "output_type": "stream",
     "text": [
      "- Vector de ceros:\n",
      "[ 0.  0.  0.  0.  0.]\n",
      "- Vector de unos:\n",
      "[ 1.  1.  1.  1.  1.]\n",
      "- Vector con todos los elementos con valor 2:\n",
      "[ 2.  2.  2.  2.  2.]\n",
      "- Vector con todos los elementos con valor 2 (otra forma):\n",
      "[ 2.  2.  2.  2.  2.]\n"
     ]
    }
   ],
   "source": [
    "print(\"- Vector de ceros:\")\n",
    "vector_ceros=np.zeros(5)\n",
    "print(vector_ceros)\n",
    "\n",
    "print(\"- Vector de unos:\")\n",
    "vector_unos=np.ones(5)\n",
    "print(vector_unos)\n",
    "\n",
    "\n",
    "#Combinando este tipo de creaciones con las operaciones aritméticas,\n",
    "#podemos hacer varias inicializaciones muy rápidamente\n",
    "# Por ejemplo, para crear un vector cuyos valores iniciales son todos 2.\n",
    "\n",
    "print(\"- Vector con todos los elementos con valor 2:\")\n",
    "vector_dos=np.zeros(5)+2\n",
    "print(vector_dos)\n",
    "\n",
    "print(\"- Vector con todos los elementos con valor 2 (otra forma):\")\n",
    "vector_dos_otro=np.ones((5))*2\n",
    "print(vector_dos_otro)\n",
    "\n",
    "\n"
   ]
  },
  {
   "cell_type": "markdown",
   "metadata": {},
   "source": [
    "### Matrices\n",
    "\n",
    "Los vectores son arreglos de una sola dimensión. Las matrices son arreglos de dos dimensiones; generalmente a la primera dimensión se la llama la de las *filas*, mientras que a la otra se la llama la de las *columnas*.\n",
    "\n",
    "Por ende, para crearlas con `np.array`, necesitamos no una lista de valores, sino una lista de valores *por cada fila*, o sea, una *lista de listas*. \n",
    "\n",
    "Del mismo modo, para crearlas con `np.zeros` o `np.ones`, vamos a necesitar una **tupla** con **dos** elementos, uno por cada dimensión.\n"
   ]
  },
  {
   "cell_type": "code",
   "execution_count": 7,
   "metadata": {},
   "outputs": [
    {
     "name": "stdout",
     "output_type": "stream",
     "text": [
      "- Matriz creada con una lista de listas:\n",
      "[[  1.   -4. ]\n",
      " [ 12.    3. ]\n",
      " [  7.2   5. ]]\n",
      "- Matriz creada con np.zeros:\n",
      "[[ 0.  0.  0.]\n",
      " [ 0.  0.  0.]]\n",
      "- Matriz creada con np.ones:\n",
      "[[ 1.  1.]\n",
      " [ 1.  1.]\n",
      " [ 1.  1.]]\n",
      "- Copia de la matriz creada con np.ones:\n",
      "[[ 1.  1.]\n",
      " [ 1.  1.]\n",
      " [ 1.  1.]]\n"
     ]
    }
   ],
   "source": [
    "print(\"- Matriz creada con una lista de listas:\")\n",
    "lista_de_listas=[ [1  ,-4], \n",
    "                  [12 , 3], \n",
    "                  [7.2, 5]]\n",
    "matriz = np.array(lista_de_listas)\n",
    "print(matriz)\n",
    "\n",
    "\n",
    "print(\"- Matriz creada con np.zeros:\")\n",
    "dimensiones=(2,3)\n",
    "matriz_ceros = np.zeros(dimensiones)\n",
    "print(matriz_ceros)\n",
    "\n",
    "\n",
    "print(\"- Matriz creada con np.ones:\")\n",
    "dimensiones=(3,2)\n",
    "matriz_unos = np.ones(dimensiones)\n",
    "print(matriz_unos)\n",
    "\n",
    "#también podemos usar np.copy para copiar una matriz \n",
    "print(\"- Copia de la matriz creada con np.ones:\")\n",
    "matriz_unos_copia=np.copy(matriz_unos)\n",
    "print(matriz_unos_copia)"
   ]
  },
  {
   "cell_type": "code",
   "execution_count": 8,
   "metadata": {},
   "outputs": [
    {
     "name": "stdout",
     "output_type": "stream",
     "text": [
      "[[ 0.5  0.5  0.5  0.5  0.5  0.5  0.5  0.5  0.5]\n",
      " [ 0.5  0.5  0.5  0.5  0.5  0.5  0.5  0.5  0.5]\n",
      " [ 0.5  0.5  0.5  0.5  0.5  0.5  0.5  0.5  0.5]\n",
      " [ 0.5  0.5  0.5  0.5  0.5  0.5  0.5  0.5  0.5]]\n"
     ]
    }
   ],
   "source": [
    "# Ejercicio\n",
    "# Crear una matriz de 4x9, que esté inicializada con el valor 0.5\n",
    "\n",
    "#IMPLEMENTAR - COMIENZO\n",
    "matriz=np.zeros((4,9))+0.5\n",
    "# matriz=np.ones((4,9))*0.5   #(VERSION ALTERNATIVA)\n",
    "#IMPLEMENTAR - FIN\n",
    "\n",
    "print(matriz)\n"
   ]
  },
  {
   "cell_type": "markdown",
   "metadata": {},
   "source": [
    "### Accediendo a las matrices\n",
    "\n",
    "También podemos usar slices para acceder a partes de las matrices. Las matrices tienen dos dimensiones, así que ahora tenemos que usar dos indices o slices para seleccionar partes.\n",
    "\n",
    "\n",
    "\n"
   ]
  },
  {
   "cell_type": "code",
   "execution_count": 9,
   "metadata": {},
   "outputs": [
    {
     "name": "stdout",
     "output_type": "stream",
     "text": [
      "Elementos individuales\n",
      "-4.0\n",
      "5.0\n",
      "Vector de elementos de la fila 1\n",
      "[ 12.   3.]\n",
      "Vector de elementos de la columna 0\n",
      "[  1.   12.    7.2]\n",
      "Submatriz de 2x2 con las primeras dos filas\n",
      "[[  1.  -4.]\n",
      " [ 12.   3.]]\n",
      "Submatriz de 2x2 con las ultimas dos filas\n",
      "[[ 12.    3. ]\n",
      " [  7.2   5. ]]\n"
     ]
    }
   ],
   "source": [
    "lista_de_listas=[ [1  ,-4], \n",
    "                  [12 , 3], \n",
    "                  [7.2, 5]]\n",
    "a = np.array(lista_de_listas)\n",
    "\n",
    "print(\"Elementos individuales\")\n",
    "print(a[0,1])\n",
    "print(a[2,1])\n",
    "\n",
    "print(\"Vector de elementos de la fila 1\")\n",
    "print(a[1,:])\n",
    "\n",
    "print(\"Vector de elementos de la columna 0\")\n",
    "print(a[:,0])\n",
    "\n",
    "print(\"Submatriz de 2x2 con las primeras dos filas\")\n",
    "print(a[0:2,:])\n",
    "\n",
    "print(\"Submatriz de 2x2 con las ultimas dos filas\")\n",
    "print(a[1:3,:])\n"
   ]
  },
  {
   "cell_type": "markdown",
   "metadata": {},
   "source": [
    "### Modificando matrices\n",
    "\n",
    "También podemos usar los slices para modificar matrices. La única diferencia es que ahora los usaremos para seleccionar que parte de la matriz vamos a cambiar.\n"
   ]
  },
  {
   "cell_type": "code",
   "execution_count": 10,
   "metadata": {},
   "outputs": [
    {
     "name": "stdout",
     "output_type": "stream",
     "text": [
      "- Matriz original:\n",
      "[[  1.  -4.]\n",
      " [ 12.   3.]\n",
      " [  7.   5.]]\n",
      "- Le asignamos el valor 4 a los elementos de la columna 0:\n",
      "[[ 4. -4.]\n",
      " [ 4.  3.]\n",
      " [ 4.  5.]]\n",
      "- Dividimos por 3 la columna 1:\n",
      "[[ 4.         -1.33333333]\n",
      " [ 4.          1.        ]\n",
      " [ 4.          1.66666667]]\n",
      "- Multiplicamos por 5 la fila 1:\n",
      "[[  4.          -1.33333333]\n",
      " [ 20.           5.        ]\n",
      " [  4.           1.66666667]]\n",
      "- Le sumamos 1 a toda la matriz:\n",
      "[[  5.          -0.33333333]\n",
      " [ 21.           6.        ]\n",
      " [  5.           2.66666667]]\n"
     ]
    }
   ],
   "source": [
    "lista_de_listas=[ [1,-4], \n",
    "                  [12,3], \n",
    "                  [7, 5.0]]\n",
    "a = np.array(lista_de_listas)\n",
    "\n",
    "print(\"- Matriz original:\")\n",
    "print(a)\n",
    "\n",
    "print(\"- Le asignamos el valor 4 a los elementos de la columna 0:\")\n",
    "a[:,0]=4\n",
    "print(a)\n",
    "\n",
    "\n",
    "print(\"- Dividimos por 3 la columna 1:\")\n",
    "a[:,1]=a[:,1]/3.0\n",
    "print(a)\n",
    "\n",
    "print(\"- Multiplicamos por 5 la fila 1:\")\n",
    "a[1,:]=a[1,:]*5\n",
    "print(a)\n",
    "\n",
    "print(\"- Le sumamos 1 a toda la matriz:\")\n",
    "a=a+1\n",
    "print(a)\n"
   ]
  },
  {
   "cell_type": "code",
   "execution_count": 12,
   "metadata": {},
   "outputs": [
    {
     "name": "stdout",
     "output_type": "stream",
     "text": [
      "Matriz original\n",
      "[[  -44.    12.]\n",
      " [   12.    51.]\n",
      " [ 1300.    -5.]]\n",
      "Luego de restarle 5 a la fila 2:\n",
      "[[  -44.    12.]\n",
      " [   12.    51.]\n",
      " [ 1295.   -10.]]\n",
      "Luego de multiplicar por 2 toda la matriz:\n",
      "[[  -88.    24.]\n",
      " [   24.   102.]\n",
      " [ 2590.   -20.]]\n",
      "Luego de dividir por -5 las primeras dos filas de la matriz:\n",
      "[[  -17.6     4.8]\n",
      " [    4.8    20.4]\n",
      " [ 2590.    -20. ]]\n",
      "La última fila de la matriz:\n",
      "[ 2590.   -20.]\n"
     ]
    }
   ],
   "source": [
    "#Ejercicios\n",
    "\n",
    "lista_de_listas=[ [-44,12], \n",
    "                  [12.0,51], \n",
    "                  [1300, -5.0]]\n",
    "a = np.array(lista_de_listas)\n",
    "\n",
    "print(\"Matriz original\")\n",
    "print(a)\n",
    "\n",
    "\n",
    "# Restarle 5 a la fila 2 de la matriz\n",
    "print(\"Luego de restarle 5 a la fila 2:\")\n",
    "#IMPLEMENTAR - COMIENZO\n",
    "a[2,:]=a[2,:]-5\n",
    "#IMPLEMENTAR - FIN\n",
    "print(a)\n",
    "\n",
    "# Multiplicar por 2 toda la matriz\n",
    "print(\"Luego de multiplicar por 2 toda la matriz:\")\n",
    "#IMPLEMENTAR - COMIENZO\n",
    "a = a * 2\n",
    "#IMPLEMENTAR - FIN\n",
    "print(a)\n",
    "\n",
    "# Dividir por -5 las dos primeras filas de la matriz\n",
    "print(\"Luego de dividir por -5 las primeras dos filas de la matriz:\")\n",
    "#IMPLEMENTAR - COMIENZO\n",
    "a[0:2,:]=a[0:2,:]/5\n",
    "#IMPLEMENTAR - FIN\n",
    "print(a)\n",
    "\n",
    "\n",
    "#Imprimir la ultima fila de la matriz\n",
    "print(\"La última fila de la matriz:\")\n",
    "#IMPLEMENTAR - COMIENZO\n",
    "ultima_fila=a[2,:]\n",
    "#IMPLEMENTAR - FIN\n",
    "print(ultima_fila)\n",
    "\n",
    "\n"
   ]
  },
  {
   "cell_type": "code",
   "execution_count": 17,
   "metadata": {},
   "outputs": [
    {
     "name": "stdout",
     "output_type": "stream",
     "text": [
      "La suma de los elementos de A es:\n",
      "1326.0\n",
      "El promedio de los elementos de A es:\n",
      "221.0\n",
      "La suma de los elementos de A es:\n",
      "1326.0\n",
      "El promedio de los elementos de A es:\n",
      "221.0\n"
     ]
    }
   ],
   "source": [
    "# Más ejercicios\n",
    "\n",
    "lista_de_listas=[ [-44,12], \n",
    "                  [12.0,51], \n",
    "                  [1300, -5.0]]\n",
    "a = np.array(lista_de_listas)\n",
    "\n",
    "# Calcular la suma y el promedio de los elementos de a utilizando dos fors anidados\n",
    "suma = 0\n",
    "promedio= 0\n",
    "#IMPLEMENTAR - COMIENZO\n",
    "\n",
    "for i in range(3):\n",
    "    for j in range(2):\n",
    "        suma+=a[i,j]\n",
    "promedio=suma/(3*2)\n",
    "print(\"La suma de los elementos de A es:\")\n",
    "print(suma)\n",
    "print(\"El promedio de los elementos de A es:\")\n",
    "print(promedio)\n",
    "#IMPLEMENTAR - FIN\n",
    "\n",
    "# Imprimir la suma de los elementos de a utilizando np.sum\n",
    "#IMPLEMENTAR - COMIENZO\n",
    "print(\"La suma de los elementos de A es:\")\n",
    "print(np.sum(a))\n",
    "#IMPLEMENTAR - FIN\n",
    "\n",
    "# Imprimir el promedio de los elementos de a utilizando slices y np.mean\n",
    "#IMPLEMENTAR - COMIENZO\n",
    "print(\"El promedio de los elementos de A es:\")\n",
    "print(np.mean(a))\n",
    "#IMPLEMENTAR - FIN\n"
   ]
  },
  {
   "cell_type": "markdown",
   "metadata": {},
   "source": [
    "### Ejercicios de repaso (no se harán durante el taller, son para practicar)"
   ]
  },
  {
   "cell_type": "code",
   "execution_count": 19,
   "metadata": {},
   "outputs": [
    {
     "name": "stdout",
     "output_type": "stream",
     "text": [
      "La matriz generada:\n",
      "[[ 0.   0.   0.   0.5  1.   1.   1.   1.   1. ]\n",
      " [ 0.   0.   0.   0.5  1.   1.   1.   1.   1. ]\n",
      " [ 0.   0.   0.   0.5  1.   1.   1.   1.   1. ]\n",
      " [ 0.   0.   0.   0.5  1.   1.   1.   1.   1. ]\n",
      " [ 0.   0.   0.   0.5  1.   1.   1.   1.   1. ]\n",
      " [ 0.   0.   0.   0.5  1.   1.   1.   1.   1. ]\n",
      " [ 0.   0.   0.   0.7  1.   1.   1.   1.   1. ]]\n",
      "Promedio de la ultima fila\n",
      "0.633333333333\n"
     ]
    }
   ],
   "source": [
    "# Generar una matriz de 7 por 9. \n",
    "# Las primeras 3 columnas de la matriz tienen que tener el valor 0. \n",
    "# La siguiente columna debe tener el valor 0.5, excepto por el último valor de esa columna, que tiene que ser 0.7.\n",
    "# Las otras tres columnas deben tener el valor 1.\n",
    "#IMPLEMENTAR - COMIENZO\n",
    "a=np.zeros((7,9))\n",
    "a[:,3]=0.5\n",
    "a[6,3]=0.7\n",
    "a[:,4:]=1\n",
    "\n",
    "# Luego imprimir la matriz\n",
    "print(\"La matriz generada:\")\n",
    "print(a)\n",
    "# Imprimir también el promedio de la ultima fila.\n",
    "print(\"Promedio de la ultima fila\")\n",
    "print(np.mean(a[6,:]))\n",
    "#IMPLEMENTAR - FIN\n"
   ]
  },
  {
   "cell_type": "code",
   "execution_count": 21,
   "metadata": {},
   "outputs": [
    {
     "name": "stdout",
     "output_type": "stream",
     "text": [
      "Valores de la matriz aleatoria:\n",
      "[[ 0.33650438  0.33983504  0.71242097  0.76193176  0.76442374]\n",
      " [ 0.46528536  0.95528116  0.59686521  0.94847358  0.71516251]\n",
      " [ 0.58046929  0.85870866  0.11478975  0.12527345  0.28814922]\n",
      " [ 0.76302023  0.22684454  0.51196027  0.36536888  0.45462059]\n",
      " [ 0.66383547  0.4155076   0.52012321  0.36860949  0.71252681]]\n",
      "Posiciones con valor mayor a 0.5:\n",
      "0 2\n",
      "0 3\n",
      "0 4\n",
      "1 1\n",
      "1 2\n",
      "1 3\n",
      "1 4\n",
      "2 0\n",
      "2 1\n",
      "3 0\n",
      "3 2\n",
      "4 0\n",
      "4 2\n",
      "4 4\n"
     ]
    }
   ],
   "source": [
    "#La siguiente linea crea una matriz aleatoria de 5 por 5 con valores entre 0 y 1\n",
    "matriz_aleatoria=np.random.rand(5,5) \n",
    "print(\"Valores de la matriz aleatoria:\")\n",
    "print(matriz_aleatoria)\n",
    "\n",
    "#Imprimir las posiciones (Fila y columna) de los elementos de la matriz \n",
    "# que son mayores que 0.5\n",
    "\n",
    "#IMPLEMENTAR - COMIENZO\n",
    "print(\"Posiciones con valor mayor a 0.5:\")\n",
    "for i in range(5):\n",
    "    for j in range(5):\n",
    "        if matriz_aleatoria[i,j]>0.5:\n",
    "            print(i,j)\n",
    "\n",
    "#IMPLEMENTAR - FIN\n",
    "\n"
   ]
  },
  {
   "cell_type": "markdown",
   "metadata": {},
   "source": [
    "## Otros tutoriales\n",
    "\n",
    "\n",
    "Este tutorial corto intenta darte los elementos mínimos de numpy para poder trabajar con imágenes. Si querés aprender más, podés consultar esta [referencia rápida de numpy en inglés](https://s3.amazonaws.com/assets.datacamp.com/blog_assets/Numpy_Python_Cheat_Sheet.pdf) o la [referencia oficial de numpy](https://docs.scipy.org/doc/numpy-1.13.0/reference/).\n",
    "\n",
    "También podés complementar este recurso con el curso online de [Introducción a Python para científicos e ingenieros](http://cacheme.org/curso-online-python-cientifico-ingenieros/) y sus [videos](https://www.youtube.com/watch?v=ox09Jko1ErM)."
   ]
  }
 ],
 "metadata": {
  "kernelspec": {
   "display_name": "Python 3",
   "language": "python",
   "name": "python3"
  },
  "language_info": {
   "codemirror_mode": {
    "name": "ipython",
    "version": 3
   },
   "file_extension": ".py",
   "mimetype": "text/x-python",
   "name": "python",
   "nbconvert_exporter": "python",
   "pygments_lexer": "ipython3",
   "version": "3.5.2"
  }
 },
 "nbformat": 4,
 "nbformat_minor": 2
}
